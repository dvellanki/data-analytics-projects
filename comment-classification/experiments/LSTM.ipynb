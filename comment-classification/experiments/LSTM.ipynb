{
  "cells": [
    {
      "metadata": {
        "_uuid": "8f2839f25d086af736a60e9eeb907d3b93b6e0e5",
        "_cell_guid": "b1076dfc-b9ad-4769-8c92-a6c4dae69d19",
        "trusted": false,
        "collapsed": true
      },
      "cell_type": "code",
      "source": "import sys, os, re, csv, codecs, numpy as np, pandas as pd\nimport matplotlib.pyplot as plt\n%matplotlib inline\nfrom keras.preprocessing.text import Tokenizer\nfrom keras.preprocessing.sequence import pad_sequences\nfrom keras.layers import Dense, Input, LSTM, Embedding, Dropout, Activation\nfrom keras.layers import Bidirectional, GlobalMaxPool1D\nfrom keras.models import Model\nfrom keras import initializers, regularizers, constraints, optimizers, layers",
      "execution_count": null,
      "outputs": []
    },
    {
      "metadata": {
        "_uuid": "d629ff2d2480ee46fbb7e2d37f6b5fab8052498a",
        "_cell_guid": "79c7e3d0-c299-4dcb-8224-4455121ee9b0",
        "collapsed": true,
        "trusted": false
      },
      "cell_type": "code",
      "source": "train = pd.read_csv('../input/train.csv')\ntest = pd.read_csv('../input/test.csv')\n\nclasses = [\"toxic\", \"severe_toxic\", \"obscene\", \"threat\", \"insult\", \"identity_hate\"]\ny_train = train[classes].values\nsentences_train = train[\"comment_text\"]\nsentences_test = test[\"comment_text\"]",
      "execution_count": null,
      "outputs": []
    },
    {
      "metadata": {
        "_uuid": "8f1d39c859de387d1f9ba554e94a14df31e0627a",
        "_cell_guid": "7235c6c1-8998-4aab-94c0-a50909a629ef",
        "collapsed": true,
        "trusted": false
      },
      "cell_type": "code",
      "source": "max_features = 20000\ntokenizer = Tokenizer(num_words=max_features)\ntokenizer.fit_on_texts(list(sentences_train))\ntokenized_train = tokenizer.texts_to_sequences(sentences_train)\ntokenized_test = tokenizer.texts_to_sequences(sentences_test)",
      "execution_count": null,
      "outputs": []
    },
    {
      "metadata": {
        "_uuid": "c3aef43392ee3b3676549105541bfc079bdd43ba",
        "_cell_guid": "31b66de3-8f25-4e93-a0b2-215c8942cd11",
        "trusted": false,
        "collapsed": true
      },
      "cell_type": "code",
      "source": "maxlen = 200 # Can play with this, visualization show most comments are less than 50 words. 200 covers approx 98% comments.\nX_train = pad_sequences(tokenized_train, maxlen=maxlen)\nX_test = pad_sequences(tokenized_test, maxlen=maxlen)",
      "execution_count": null,
      "outputs": []
    },
    {
      "metadata": {
        "_uuid": "a5677cea5120b4c097988b0fefc175e38218647f",
        "_cell_guid": "7e7e6b0c-4f2e-4771-91dd-59a89f4334cb",
        "collapsed": true,
        "trusted": false
      },
      "cell_type": "code",
      "source": "embed_size = 128\n\ninp = Input(shape=(maxlen, )) #maxlen=200 as defined earlier\nx = Embedding(max_features, embed_size)(inp)\nx = LSTM(60, return_sequences=True,name='lstm_layer')(x)\nx = GlobalMaxPool1D()(x)\nx = Dropout(0.1)(x)\nx = Dense(50, activation=\"relu\")(x)\nx = Dropout(0.1)(x)\nx = Dense(6, activation=\"sigmoid\")(x)\n\nmodel = Model(inputs=inp, outputs=x)\nmodel.compile(loss='binary_crossentropy',\n                  optimizer='adam',\n                  metrics=['accuracy'])",
      "execution_count": null,
      "outputs": []
    },
    {
      "metadata": {
        "scrolled": true,
        "_uuid": "ee42036dfc3ca3557fff3aa5c59060dfce1ae439",
        "_cell_guid": "ce823d35-cfd0-4181-aeb5-3f001fff5006",
        "trusted": false,
        "collapsed": true
      },
      "cell_type": "code",
      "source": "batch_size = 32\nepochs = 2\nmodel.fit(X_train, y_train, batch_size=batch_size, epochs=epochs, validation_split=0.1)",
      "execution_count": null,
      "outputs": []
    },
    {
      "metadata": {
        "_uuid": "08c2f09efea7bd36029525f58fd32c9aada14c3c",
        "_cell_guid": "3e364420-4491-49d8-82ff-69b993e642ca",
        "collapsed": true,
        "trusted": false
      },
      "cell_type": "code",
      "source": "model.save('lstm.h5')",
      "execution_count": null,
      "outputs": []
    },
    {
      "metadata": {
        "_uuid": "f6e4229bed9cbed8c4dc20d07c9f25b1651e1fe1",
        "_cell_guid": "72864966-b190-45e7-8a20-2d201dbce1de",
        "collapsed": true,
        "trusted": false
      },
      "cell_type": "code",
      "source": "testPred = model.predict(X_test)\ndata_to_submit = pd.DataFrame.from_items([\n    ('id',test[\"id\"]),\n    ('toxic',testPred[:,0]),\n    ('severe_toxic',testPred[:,1]),\n    ('obscene',testPred[:,2]),\n    ('threat',testPred[:,3]),\n    ('insult',testPred[:,4]),\n    ('identity_hate',testPred[:,5])\n])\ndata_to_submit.to_csv('csv_to_submit.csv', index = False)\ndata_to_submit.head()",
      "execution_count": null,
      "outputs": []
    },
    {
      "metadata": {
        "_uuid": "895c434b1af66028560856e1529ba122609c001e",
        "_cell_guid": "bfbc78b9-4b8e-4a30-bd12-25b52f93e395",
        "collapsed": true,
        "trusted": false
      },
      "cell_type": "code",
      "source": "# Bidirectional LSTM\nembed_size = 128\ninp = Input(shape=(maxlen, )) #maxlen=200 as defined earlier\nx = Embedding(max_features, embed_size)(inp)\nx = Bidirectional(LSTM(60, return_sequences=True))(x)\nx = GlobalMaxPool1D()(x)\nx = Dropout(0.1)(x)\nx = Dense(50, activation=\"relu\")(x)\nx = Dropout(0.1)(x)\nx = Dense(6, activation=\"sigmoid\")(x)\n\nmodel2 = Model(inputs=inp, outputs=x)\nmodel2.compile(loss='binary_crossentropy',\n                  optimizer='adam',\n                  metrics=['accuracy'])\n\nbatch_size = 32\nepochs = 2\nmodel2.fit(X_train, y_train, batch_size=batch_size, epochs=epochs, validation_split=0.1)\nmodel2.save('Bilstm.h5')\n\ntestPred = model2.predict(X_test)\ndata_to_submit2 = pd.DataFrame.from_items([\n    ('id',test[\"id\"]),\n    ('toxic',testPred[:,0]),\n    ('severe_toxic',testPred[:,1]),\n    ('obscene',testPred[:,2]),\n    ('threat',testPred[:,3]),\n    ('insult',testPred[:,4]),\n    ('identity_hate',testPred[:,5])\n])\ndata_to_submit2.to_csv('csv_to_submit2.csv', index = False)\ndata_to_submit2.head()",
      "execution_count": null,
      "outputs": []
    }
  ],
  "metadata": {
    "kernelspec": {
      "display_name": "Python 3",
      "language": "python",
      "name": "python3"
    },
    "language_info": {
      "name": "python",
      "version": "3.6.4",
      "mimetype": "text/x-python",
      "codemirror_mode": {
        "name": "ipython",
        "version": 3
      },
      "pygments_lexer": "ipython3",
      "nbconvert_exporter": "python",
      "file_extension": ".py"
    }
  },
  "nbformat": 4,
  "nbformat_minor": 1
}
