{
 "cells": [
  {
   "cell_type": "code",
   "execution_count": null,
   "metadata": {},
   "outputs": [
    {
     "name": "stderr",
     "output_type": "stream",
     "text": [
      "IOPub data rate exceeded.\n",
      "The notebook server will temporarily stop sending output\n",
      "to the client in order to avoid crashing it.\n",
      "To change this limit, set the config variable\n",
      "`--NotebookApp.iopub_data_rate_limit`.\n",
      "\n",
      "Current values:\n",
      "NotebookApp.iopub_data_rate_limit=1000000.0 (bytes/sec)\n",
      "NotebookApp.rate_limit_window=3.0 (secs)\n",
      "\n"
     ]
    }
   ],
   "source": [
    "import unicodecsv\n",
    "from nltk.tokenize import RegexpTokenizer\n",
    "from nltk.stem import PorterStemmer        \n",
    "from sklearn.feature_extraction.text import CountVectorizer\n",
    "\n",
    "data_file = \"data/tiny_train.csv\"\n",
    "\n",
    "def parse(review):    \n",
    "    words = tokenizer.tokenize(review.lower())\n",
    "    return [ps.stem(word) for word in words]\n",
    "\n",
    "tokenizer = RegexpTokenizer(r'\\w+')\n",
    "ps = PorterStemmer()\n",
    "\n",
    "id = []\n",
    "comment = []\n",
    "toxic = []\n",
    "severe_toxic = []\n",
    "obscene = []\n",
    "threat = []\n",
    "insult = []\n",
    "identity_hate = []\n",
    "\n",
    "with open(data_file, 'rb') as f:\n",
    "    reader = unicodecsv.reader(f, encoding = 'utf-8')\n",
    "    for str in reader:\n",
    "        id.append(str[0])\n",
    "        comment.append(str[1])\n",
    "        toxic.append(str[2])\n",
    "        severe_toxic.append(str[3])\n",
    "        obscene.append(str[4])\n",
    "        threat.append(str[5])\n",
    "        insult.append(str[6])\n",
    "        identity_hate.append(str[7])\n",
    "\n",
    "print comment\n",
    "vec = CountVectorizer(analyzer=parse)\n",
    "\n",
    "data = vec.fit_transform(comment)\n",
    "\n",
    "print \"Feature Vecor Shape: \"\n",
    "print data.shape  \n",
    "print \n",
    "print \"Feature Vectors: \", data"
   ]
  },
  {
   "cell_type": "code",
   "execution_count": 2,
   "metadata": {},
   "outputs": [
    {
     "name": "stdout",
     "output_type": "stream",
     "text": [
      "5-Fold settings:  KFold(n_splits=5, random_state=None, shuffle=False)\n",
      "Naive Bayes Predictions (Setting 2): \n",
      "[u'0' u'1' u'1' u'0' u'0' u'0' u'0' u'0' u'0' u'0' u'0' u'0' u'0' u'toxic'\n",
      " u'0' u'0' u'toxic' u'0' u'1' u'0' u'0']\n",
      "Accuracy (Multinomial Naive Bayes):  [0.4  0.75 1.   0.5  0.5 ]\n",
      "Average Accuracy:  0.63\n",
      "             precision    recall  f1-score   support\n",
      "\n",
      "          0       0.81      0.76      0.79        17\n",
      "          1       0.00      0.00      0.00         3\n",
      "      toxic       0.00      0.00      0.00         1\n",
      "\n",
      "avg / total       0.66      0.62      0.64        21\n",
      "\n"
     ]
    }
   ],
   "source": [
    "from sklearn.model_selection import KFold\n",
    "from sklearn.model_selection import cross_val_predict, cross_val_score\n",
    "from sklearn.naive_bayes import MultinomialNB\n",
    "from sklearn.metrics import accuracy_score, classification_report\n",
    "import numpy as np\n",
    "\n",
    "X = data\n",
    "Y = toxic\n",
    "\n",
    "kf = KFold(n_splits=5) \n",
    "kf.get_n_splits(X)     \n",
    "\n",
    "print \"5-Fold settings: \", kf \n",
    "\n",
    "mnb2 = MultinomialNB()\n",
    "mnbPredictions2 = cross_val_predict(mnb2, X, Y, cv=kf)\n",
    "mnbscore2 = cross_val_score(mnb2, X, Y, cv=kf)\n",
    "\n",
    "print \"Naive Bayes Predictions (Setting 2): \"\n",
    "print mnbPredictions2\n",
    "\n",
    "print \"Accuracy (Multinomial Naive Bayes): \", mnbscore2\n",
    "print \"Average Accuracy: \", np.mean(mnbscore2)\n",
    "print classification_report(Y, mnbPredictions2)"
   ]
  },
  {
   "cell_type": "code",
   "execution_count": null,
   "metadata": {},
   "outputs": [],
   "source": []
  }
 ],
 "metadata": {
  "kernelspec": {
   "display_name": "Python 2",
   "language": "python",
   "name": "python2"
  },
  "language_info": {
   "codemirror_mode": {
    "name": "ipython",
    "version": 2
   },
   "file_extension": ".py",
   "mimetype": "text/x-python",
   "name": "python",
   "nbconvert_exporter": "python",
   "pygments_lexer": "ipython2",
   "version": "2.7.14"
  }
 },
 "nbformat": 4,
 "nbformat_minor": 2
}
