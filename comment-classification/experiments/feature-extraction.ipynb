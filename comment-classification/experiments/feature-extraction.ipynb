{
 "cells": [
  {
   "cell_type": "code",
   "execution_count": 1,
   "metadata": {
    "_cell_guid": "79c7e3d0-c299-4dcb-8224-4455121ee9b0",
    "_kg_hide-input": false,
    "_kg_hide-output": false,
    "_uuid": "d629ff2d2480ee46fbb7e2d37f6b5fab8052498a",
    "collapsed": true
   },
   "outputs": [],
   "source": [
    "# import os\n",
    "# print(os.listdir(\"../input/tinyversions\"))\n",
    "\n",
    "import numpy as np \n",
    "import pandas as pd \n",
    "import string\n",
    "\n",
    "import nltk\n",
    "from nltk import pos_tag\n",
    "from nltk.corpus import stopwords\n",
    "from collections import Counter\n",
    "\n",
    "from sklearn.feature_extraction.text import TfidfVectorizer\n",
    "from sklearn.linear_model import LogisticRegression\n",
    "from sklearn.model_selection import cross_val_score\n",
    "from sklearn.base import BaseEstimator, TransformerMixin\n",
    "from sklearn.pipeline import FeatureUnion\n",
    "from sklearn.pipeline import Pipeline\n",
    "from sklearn.feature_extraction import DictVectorizer\n",
    "\n"
   ]
  },
  {
   "cell_type": "code",
   "execution_count": 9,
   "metadata": {},
   "outputs": [],
   "source": [
    "classes = ['toxic', 'severe_toxic', 'obscene', 'threat', 'insult', 'identity_hate']\n",
    "\n",
    "train = pd.read_csv('data/tiny_train.csv', encoding=\"utf-8\").fillna(' ')\n",
    "test = pd.read_csv('data/test.csv', encoding=\"utf-8\").fillna(' ')\n",
    "badwords = pd.read_csv('data/bad-words.csv', header=None).iloc[:,0].tolist()\n",
    "eng_stopwords = set(stopwords.words(\"english\"))\n",
    "\n",
    "# train = pd.read_csv('../input/tinyversions/tiny_train.csv', encoding=\"utf-8\").fillna(' ')\n",
    "# train = pd.read_csv('../input/jigsaw-toxic-comment-classification-challenge/train.csv', encoding=\"utf-8\").fillna(' ')\n",
    "# test = pd.read_csv('../input/jigsaw-toxic-comment-classification-challenge/test.csv', encoding=\"utf-8\").fillna(' ')\n",
    "\n",
    "train_text = train['comment_text']\n",
    "test_text = test['comment_text']\n",
    "all_text = pd.concat([train_text, test_text])"
   ]
  },
  {
   "cell_type": "code",
   "execution_count": 10,
   "metadata": {
    "_cell_guid": "8f1addca-c1a5-482f-91a2-9bb6a9a8d426",
    "_uuid": "9eb8c1f9c8137a8b1f96eb821ca50d9bd438aef1",
    "collapsed": true
   },
   "outputs": [],
   "source": [
    "# Word Vectorizer\n",
    "word_vectorizer = TfidfVectorizer(\n",
    "    sublinear_tf=True,\n",
    "    strip_accents='unicode',\n",
    "    analyzer='word',\n",
    "    token_pattern=r'\\w{1,}',\n",
    "    ngram_range=(1, 1),\n",
    "    max_features=20000)\n",
    "\n",
    "# N-gram Character Vectorizer\n",
    "char_vectorizer = TfidfVectorizer(\n",
    "    sublinear_tf=True,\n",
    "    strip_accents='unicode',\n",
    "    analyzer='char',\n",
    "    ngram_range=(1, 4),\n",
    "    max_features=30000)\n"
   ]
  },
  {
   "cell_type": "code",
   "execution_count": 11,
   "metadata": {
    "collapsed": true
   },
   "outputs": [],
   "source": [
    "# Parts of Speech Tag Count \n",
    "class PoS_TagFeatures(TransformerMixin):\n",
    "    \n",
    "    def tag_PoS(self, text):\n",
    "        text_splited = text.split(' ')\n",
    "        text_splited = [''.join(c for c in s if c not in string.punctuation) for s in text_splited]\n",
    "        text_splited = [s for s in text_splited if s]\n",
    "        pos_list = pos_tag(text_splited)\n",
    "        noun_count = len([w for w in pos_list if w[1] in ('NN','NNP','NNPS','NNS')])\n",
    "        adjective_count = len([w for w in pos_list if w[1] in ('JJ','JJR','JJS')])\n",
    "        verb_count = len([w for w in pos_list if w[1] in ('VB','VBD','VBG','VBN','VBP','VBZ')])\n",
    "        \n",
    "        words = len(text.split())\n",
    "        length = len(text)\n",
    "        return [noun_count, noun_count/words, noun_count/length, \n",
    "                adjective_count, adjective_count/words, adjective_count/length, \n",
    "                verb_count, verb_count/words, verb_count/length]\n",
    "    \n",
    "    def fit(self, x, y=None):\n",
    "        return self\n",
    "    \n",
    "    def transform(self, posts):\n",
    "        return [{'nouns': counts[0],\n",
    "                 'nounNormByWords': counts[1],\n",
    "                 'nounNormByLength': counts[2],\n",
    "                 'adjectives': counts[3],\n",
    "                 'adjectiveNormByWords': counts[4],\n",
    "                 'adjectiveNormByLength': counts[5],\n",
    "                 'verbs': counts[6],\n",
    "                 'verbNormByWords': counts[7],\n",
    "                 'verbNormByLength': counts[8]}\n",
    "                for counts in map(self.tag_PoS, posts)]\n",
    "    \n",
    "# Pipelining Parts of Speech Tag Features with DictVectorizer for processing\n",
    "posTag_vectorizer = Pipeline([\n",
    "    ('parts_of_speech', PoS_TagFeatures()),\n",
    "    ('dictVect', DictVectorizer(sparse = False))\n",
    "])"
   ]
  },
  {
   "cell_type": "code",
   "execution_count": 12,
   "metadata": {
    "_cell_guid": "e66ea469-91d7-4c9c-ae5d-dc17faca1c8f",
    "_uuid": "3a7bbd42c35f0a6e2572927f472d34de08b4f93b",
    "collapsed": true
   },
   "outputs": [],
   "source": [
    "# Bad Words Occurance Count\n",
    "class BadWords_Features(TransformerMixin):\n",
    "    \n",
    "    def badWordCount(self, text):\n",
    "        badCount = sum(text.count(w) for w in badwords)\n",
    "        return [badCount, badCount/len(text.split()), badCount/len(text)]\n",
    "    \n",
    "    def fit(self, x, y=None):\n",
    "        return self\n",
    "    \n",
    "    def transform(self, posts):\n",
    "        return [{'badwordcount': badCounts[0],\n",
    "                 'badNormByWords': badCounts[1],\n",
    "                 'badNormByLength': badCounts[2]}\n",
    "                for badCounts in map(self.badWordCount, posts)]\n",
    "    \n",
    "# Pipelining Bad Word Features with DictVectorizer for processing\n",
    "badWord_vectorizer = Pipeline([\n",
    "    ('bad_words', BadWords_Features()),\n",
    "    ('dictVect', DictVectorizer(sparse = False))\n",
    "])\n"
   ]
  },
  {
   "cell_type": "code",
   "execution_count": 13,
   "metadata": {},
   "outputs": [],
   "source": [
    "# Symbol Occurance Count\n",
    "class Symbol_Features(TransformerMixin):\n",
    "    \n",
    "    def symbolCount(self, text):\n",
    "        foul_filler = sum(text.count(w) for w in '*&$%@#!')\n",
    "        userMentions = text.count(\"User:\")\n",
    "        smileys = sum(text.count(w) for w in (':-)', ':)', ';-)', ';)'))\n",
    "        exclamation = text.count(\"!\")\n",
    "        question = text.count(\"User:\")\n",
    "        punctuation = sum(text.count(w) for w in '.,;:')\n",
    "        all_symbol = 1 #sum(text.count(w) for w in '*&#$%“”¨«»®´·º½¾¿¡§£₤‘’'.decode('utf-8'))\n",
    "        \n",
    "        words = len(text.split())\n",
    "        length = len(text)\n",
    "        return [foul_filler, foul_filler/words, foul_filler/length, \n",
    "                userMentions, userMentions/words, userMentions/length, \n",
    "                smileys, smileys/words, smileys/length, \n",
    "                exclamation, exclamation/words, exclamation/length, \n",
    "                question, question/words, question/length, \n",
    "                punctuation, punctuation/words, punctuation/length, \n",
    "                all_symbol, all_symbol/words, all_symbol/length]\n",
    "    \n",
    "    def fit(self, x, y=None):\n",
    "        return self\n",
    "    \n",
    "    def transform(self, posts):\n",
    "        return [{'foul_fillerCount': symCounts[0],\n",
    "                 'foul_fillerNormByWords': symCounts[1],\n",
    "                 'foul_fillerNormByLength': symCounts[2],\n",
    "                 'userMentionsCount': symCounts[3],\n",
    "                 'userMentionsNormByWords': symCounts[4],\n",
    "                 'userMentionsNormByLength': symCounts[5],\n",
    "                 'smileysCount': symCounts[6],\n",
    "                 'smileysNormByWords': symCounts[7],\n",
    "                 'smileysNormByLength': symCounts[8],\n",
    "                 'exclamationCount': symCounts[9],\n",
    "                 'exclamationNormByWords': symCounts[10],\n",
    "                 'exclamationNormByLength': symCounts[11],\n",
    "                 'questionCount': symCounts[12],\n",
    "                 'questionNormByWords': symCounts[13],\n",
    "                 'questionNormByLength': symCounts[14],\n",
    "                 'punctuationCount': symCounts[15],\n",
    "                 'punctuationNormByWords': symCounts[16],\n",
    "                 'punctuationNormByLength': symCounts[17],\n",
    "                 'all_symbolCount': symCounts[18],\n",
    "                 'all_symbolNormByWords': symCounts[19],\n",
    "                 'all_symbolNormByLength': symCounts[20]}\n",
    "                for symCounts in map(self.symbolCount, posts)]\n",
    "    \n",
    "# Pipelining Symbol based Features with DictVectorizer for processing\n",
    "symbol_vectorizer = Pipeline([\n",
    "    ('symbols', Symbol_Features()),\n",
    "    ('dictVect', DictVectorizer(sparse = False))\n",
    "])\n"
   ]
  },
  {
   "cell_type": "code",
   "execution_count": 14,
   "metadata": {
    "_cell_guid": "556598fd-b518-4821-b0c9-76f317dbbdf1",
    "_uuid": "4938d6441f88bf1c07e8df67c9c1dea8f81d0767",
    "collapsed": true
   },
   "outputs": [],
   "source": [
    "# General Text Based Features\n",
    "class TextFeatures(TransformerMixin):\n",
    "    \n",
    "    def featureCount(self, text):        \n",
    "        words = len(text.split())\n",
    "        length = len(text)\n",
    "        capitals = sum(1 for c in text if c.isupper())\n",
    "        paragraphs = text.count('\\n')\n",
    "        stopwords = sum(text.count(w) for w in eng_stopwords)\n",
    "        unique = len(set(w for w in text.split()))\n",
    "        word_counts = Counter(text.split())\n",
    "        repeat = sum(count for word, count in sorted(word_counts.items()) if count > 10)\n",
    "        \n",
    "        return [words, length, words/length, \n",
    "                capitals, capitals/words, capitals/length, \n",
    "                paragraphs, paragraphs/words, paragraphs/length, \n",
    "                stopwords, stopwords/words, stopwords/length, \n",
    "                unique, unique/words, unique/length,  \n",
    "                repeat, repeat/words, repeat/length]\n",
    "    \n",
    "    def fit(self, x, y=None):\n",
    "        return self\n",
    "    \n",
    "    def transform(self, posts):\n",
    "        return [{'words': counts[0],\n",
    "                 'length': counts[1],\n",
    "                 'wordNormByLength': counts[2],\n",
    "                 'capitalsCount': counts[3],\n",
    "                 'capitalsNormByWords': counts[4],\n",
    "                 'capitalsNormByLength': counts[5],\n",
    "                 'paragraphsCount': counts[6],\n",
    "                 'paragraphsNormByWords': counts[7],\n",
    "                 'paragraphsNormByLength': counts[8],\n",
    "                 'stopwordsCount': counts[9],\n",
    "                 'stopwordsNormByWords': counts[10],\n",
    "                 'stopwordsNormByLength': counts[11],\n",
    "                 'uniqueCount': counts[12],\n",
    "                 'uniqueNormByWords': counts[13],\n",
    "                 'uniqueNormByLength': counts[14],\n",
    "                 'repeatCount': counts[15],\n",
    "                 'repeatNormByWords': counts[16],\n",
    "                 'repeatNormByLength': counts[17]}\n",
    "                for counts in map(self.featureCount, posts)]\n",
    "    \n",
    "# Pipelining Text Features with DictVectorizer for processing\n",
    "text_vectorizer = Pipeline([\n",
    "    ('texts', TextFeatures()),\n",
    "    ('dictVect', DictVectorizer(sparse = False))\n",
    "])"
   ]
  },
  {
   "cell_type": "code",
   "execution_count": 17,
   "metadata": {
    "_uuid": "59a04db9a504c832b894619488ce86e9e995015f"
   },
   "outputs": [
    {
     "name": "stdout",
     "output_type": "stream",
     "text": [
      "(20, 6851)\n"
     ]
    }
   ],
   "source": [
    "combined_features = FeatureUnion([(\"word\", word_vectorizer), (\"char\", char_vectorizer), (\"pos_tags\", posTag_vectorizer), \n",
    "                                  (\"bad_word\", badWord_vectorizer), (\"symbol\", symbol_vectorizer), (\"text\", text_vectorizer)])\n",
    "train_features = combined_features.fit(train_text, train[\"toxic\"]).transform(train_text)\n",
    "\n",
    "print(train_features.shape)"
   ]
  },
  {
   "cell_type": "code",
   "execution_count": 18,
   "metadata": {
    "_cell_guid": "8f6a5cc8-ac41-4fa0-b79a-f668b2db90be",
    "_uuid": "99d5028277e737806c485130562fa4070a308f96"
   },
   "outputs": [
    {
     "name": "stdout",
     "output_type": "stream",
     "text": [
      "CV score for class toxic is 0.766666666667\n"
     ]
    },
    {
     "name": "stderr",
     "output_type": "stream",
     "text": [
      "E:\\Anaconda2\\lib\\site-packages\\sklearn\\linear_model\\sag.py:326: ConvergenceWarning: The max_iter was reached which means the coef_ did not converge\n",
      "  \"the coef_ did not converge\", ConvergenceWarning)\n"
     ]
    },
    {
     "ename": "NameError",
     "evalue": "name 'test_features' is not defined",
     "output_type": "error",
     "traceback": [
      "\u001b[1;31m---------------------------------------------------------------------------\u001b[0m",
      "\u001b[1;31mNameError\u001b[0m                                 Traceback (most recent call last)",
      "\u001b[1;32m<ipython-input-18-51ea9ac1e718>\u001b[0m in \u001b[0;36m<module>\u001b[1;34m()\u001b[0m\n\u001b[0;32m     11\u001b[0m \u001b[1;33m\u001b[0m\u001b[0m\n\u001b[0;32m     12\u001b[0m     \u001b[0mclassifier\u001b[0m\u001b[1;33m.\u001b[0m\u001b[0mfit\u001b[0m\u001b[1;33m(\u001b[0m\u001b[0mtrain_features\u001b[0m\u001b[1;33m,\u001b[0m \u001b[0mtrain_target\u001b[0m\u001b[1;33m)\u001b[0m\u001b[1;33m\u001b[0m\u001b[0m\n\u001b[1;32m---> 13\u001b[1;33m     \u001b[0msubmission\u001b[0m\u001b[1;33m[\u001b[0m\u001b[0mclas\u001b[0m\u001b[1;33m]\u001b[0m \u001b[1;33m=\u001b[0m \u001b[0mclassifier\u001b[0m\u001b[1;33m.\u001b[0m\u001b[0mpredict_proba\u001b[0m\u001b[1;33m(\u001b[0m\u001b[0mtest_features\u001b[0m\u001b[1;33m)\u001b[0m\u001b[1;33m[\u001b[0m\u001b[1;33m:\u001b[0m\u001b[1;33m,\u001b[0m \u001b[1;36m1\u001b[0m\u001b[1;33m]\u001b[0m\u001b[1;33m\u001b[0m\u001b[0m\n\u001b[0m\u001b[0;32m     14\u001b[0m \u001b[1;33m\u001b[0m\u001b[0m\n\u001b[0;32m     15\u001b[0m \u001b[1;32mprint\u001b[0m\u001b[1;33m(\u001b[0m\u001b[1;34m'Total CV score is {}'\u001b[0m\u001b[1;33m.\u001b[0m\u001b[0mformat\u001b[0m\u001b[1;33m(\u001b[0m\u001b[0mnp\u001b[0m\u001b[1;33m.\u001b[0m\u001b[0mmean\u001b[0m\u001b[1;33m(\u001b[0m\u001b[0mscores\u001b[0m\u001b[1;33m)\u001b[0m\u001b[1;33m)\u001b[0m\u001b[1;33m)\u001b[0m\u001b[1;33m\u001b[0m\u001b[0m\n",
      "\u001b[1;31mNameError\u001b[0m: name 'test_features' is not defined"
     ]
    }
   ],
   "source": [
    "scores = []\n",
    "submission = pd.DataFrame.from_dict({'id': test['id']})\n",
    "for clas in classes:\n",
    "    train_target = train[clas]\n",
    "    classifier = LogisticRegression(solver='sag')\n",
    "\n",
    "    cv_score = np.mean(cross_val_score(\n",
    "        classifier, train_features, train_target, cv=3, scoring='roc_auc'))\n",
    "    scores.append(cv_score)\n",
    "    print('CV score for class {} is {}'.format(clas, cv_score))\n",
    "\n",
    "    classifier.fit(train_features, train_target)\n",
    "    submission[clas] = classifier.predict_proba(test_features)[:, 1]\n",
    "\n",
    "print('Total CV score is {}'.format(np.mean(scores)))\n",
    "submission.head()"
   ]
  },
  {
   "cell_type": "code",
   "execution_count": null,
   "metadata": {
    "_cell_guid": "ec27691d-6587-4b50-999e-1fa02848904f",
    "_uuid": "63442e9b8efd489a14a89c8d40f8f3b6182b509b",
    "collapsed": true
   },
   "outputs": [],
   "source": [
    "submission.to_csv('submission.csv', index=False)"
   ]
  }
 ],
 "metadata": {
  "kernelspec": {
   "display_name": "Python 2",
   "language": "python",
   "name": "python2"
  },
  "language_info": {
   "codemirror_mode": {
    "name": "ipython",
    "version": 2
   },
   "file_extension": ".py",
   "mimetype": "text/x-python",
   "name": "python",
   "nbconvert_exporter": "python",
   "pygments_lexer": "ipython2",
   "version": "2.7.14"
  }
 },
 "nbformat": 4,
 "nbformat_minor": 1
}
